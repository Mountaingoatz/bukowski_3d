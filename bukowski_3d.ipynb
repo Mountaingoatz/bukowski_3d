{
  "cells": [
    {
      "cell_type": "code",
      "execution_count": 1,
      "id": "19bc1563",
      "metadata": {},
      "outputs": [],
      "source": [
        "# 0. Install dependencies if needed: !pip install -q plotly scikit-learn openai\n",
        "# 1.  Book corpus ─────────────────────────────────────────────────\n",
        "works = {\n",
        "    \"Post Office\":\n",
        "        \"Autobiographical novel about Henry Chinaski's soul-crushing years as a postal clerk; \"\n",
        "        \"gritty humor about work and survival.\",\n",
        "    \"Ham on Rye\":\n",
        "        \"Semi-autobiographical coming-of-age tale in Great-Depression Los Angeles.\",\n",
        "    \"Women\":\n",
        "        \"Older Chinaski's chaotic carousel of lovers amid late-life literary fame.\",\n",
        "    \"Factotum\":\n",
        "        \"Picaresque drift through menial jobs and bars in 1940s America.\",\n",
        "    \"Pulp\":\n",
        "        \"A meta-noir parody written as Bukowski faced his own mortality.\",\n",
        "    \"Love Is a Dog from Hell\":\n",
        "        \"Poems (1974-1977) on love, lust and despair, raw and direct.\",\n",
        "    \"Tales of Ordinary Madness\":\n",
        "        \"Short stories of Los-Angeles low-lifes, sex, booze and madness.\",\n",
        "    \"Notes of a Dirty Old Man\":\n",
        "        \"Underground newspaper columns: crude humour, candid confession, street life.\",\n",
        "    \"You Get So Alone at Times…\":\n",
        "        \"Mid-career poems on solitude, aging and small daily epiphanies.\",\n",
        "    \"The Last Night of the Earth Poems\":\n",
        "        \"Late-life poems confronting death, memory and meaning.\",\n",
        "}\n",
        "\n",
        "titles, texts = list(works.keys()), list(works.values())\n"
      ]
    },
    {
      "cell_type": "code",
      "execution_count": 2,
      "id": "0325e49c",
      "metadata": {},
      "outputs": [],
      "source": [
        "# ✪ 2.  Choose vectoriser ───────────────────────────────────────────\n",
        "USE_OPENAI = False          # flip to True for full-semantic mode\n",
        "if USE_OPENAI:\n",
        "    import os, openai, numpy as np\n",
        "    openai.api_key = os.getenv(\"OPENAI_API_KEY\")\n",
        "    embeds = [openai.embeddings.create(\n",
        "                model=\"text-embedding-3-small\", input=txt, encoding_format=\"float\"\n",
        "              ).data[0].embedding for txt in texts]\n",
        "    X = np.array(embeds)\n",
        "else:\n",
        "    from sklearn.feature_extraction.text import TfidfVectorizer\n",
        "    X = TfidfVectorizer(stop_words=\"english\").fit_transform(texts).toarray()\n"
      ]
    },
    {
      "cell_type": "code",
      "execution_count": 3,
      "id": "1e765ae4",
      "metadata": {},
      "outputs": [],
      "source": [
        "# ✪ 3.  Reduce to 3-D ───────────────────────────────────────────────\n",
        "from sklearn.decomposition import PCA\n",
        "coords = PCA(n_components=3, random_state=42).fit_transform(X)\n"
      ]
    },
    {
      "cell_type": "code",
      "execution_count": 4,
      "id": "934e098a",
      "metadata": {},
      "outputs": [
        {
          "name": "stdout",
          "output_type": "stream",
          "text": [
            "✓ Written → /Users/hunterbillhardt/idk/bukowski_3d_with_docs/bukowski_3d.html\n"
          ]
        },
        {
          "data": {
            "text/plain": [
              "True"
            ]
          },
          "execution_count": 4,
          "metadata": {},
          "output_type": "execute_result"
        }
      ],
      "source": [
        "# ✪ 4.  Build Plotly figure ────────────────────────────────────────\n",
        "import plotly.express as px, pandas as pd, pathlib, webbrowser\n",
        "df = pd.DataFrame(coords, columns=[\"PC1\",\"PC2\",\"PC3\"]); df[\"Title\"] = titles\n",
        "\n",
        "fig = px.scatter_3d(df, x=\"PC1\", y=\"PC2\", z=\"PC3\",\n",
        "                    text=\"Title\", hover_name=\"Title\",\n",
        "                    title=\"Charles Bukowski – 3-D projection of key works\")\n",
        "fig.update_traces(marker=dict(size=6))\n",
        "outfile = pathlib.Path(\"bukowski_3d.html\")\n",
        "fig.write_html(outfile, include_plotlyjs=\"cdn\")\n",
        "print(f\"✓ Written → {outfile.resolve()}\")\n",
        "webbrowser.open(outfile.resolve().as_uri())\n"
      ]
    },
    {
      "cell_type": "code",
      "execution_count": null,
      "id": "67f337ba",
      "metadata": {},
      "outputs": [],
      "source": []
    }
  ],
  "metadata": {
    "kernelspec": {
      "display_name": ".venv",
      "language": "python",
      "name": "python3"
    },
    "language_info": {
      "codemirror_mode": {
        "name": "ipython",
        "version": 3
      },
      "file_extension": ".py",
      "mimetype": "text/x-python",
      "name": "python",
      "nbconvert_exporter": "python",
      "pygments_lexer": "ipython3",
      "version": "3.13.4"
    }
  },
  "nbformat": 4,
  "nbformat_minor": 5
}
